{
 "cells": [
  {
   "cell_type": "markdown",
   "id": "f907fc1c-91f9-49dd-81b4-9aa2114ef572",
   "metadata": {},
   "source": [
    "# Coffee Sales Analysis"
   ]
  },
  {
   "cell_type": "markdown",
   "id": "2d34b79a-0ee8-41a7-9790-088a776f0128",
   "metadata": {},
   "source": [
    "### Importing libraries"
   ]
  },
  {
   "cell_type": "code",
   "execution_count": 14,
   "id": "e3bf0663-353d-4dba-9b81-54677aefff88",
   "metadata": {},
   "outputs": [],
   "source": [
    "import pandas as pd"
   ]
  },
  {
   "cell_type": "markdown",
   "id": "ad7c74ff-14db-4311-b950-1c27f415341e",
   "metadata": {},
   "source": [
    "### Indexing and reading Dataframe"
   ]
  },
  {
   "cell_type": "code",
   "execution_count": 15,
   "id": "8373ab11-fcd6-44cb-94b4-845678651095",
   "metadata": {},
   "outputs": [
    {
     "data": {
      "text/html": [
       "<div>\n",
       "<style scoped>\n",
       "    .dataframe tbody tr th:only-of-type {\n",
       "        vertical-align: middle;\n",
       "    }\n",
       "\n",
       "    .dataframe tbody tr th {\n",
       "        vertical-align: top;\n",
       "    }\n",
       "\n",
       "    .dataframe thead th {\n",
       "        text-align: right;\n",
       "    }\n",
       "</style>\n",
       "<table border=\"1\" class=\"dataframe\">\n",
       "  <thead>\n",
       "    <tr style=\"text-align: right;\">\n",
       "      <th></th>\n",
       "      <th>date</th>\n",
       "      <th>datetime</th>\n",
       "      <th>cash_type</th>\n",
       "      <th>card</th>\n",
       "      <th>money</th>\n",
       "      <th>coffee_name</th>\n",
       "    </tr>\n",
       "  </thead>\n",
       "  <tbody>\n",
       "    <tr>\n",
       "      <th>0</th>\n",
       "      <td>2024-03-01</td>\n",
       "      <td>2024-03-01 10:15:50.520</td>\n",
       "      <td>card</td>\n",
       "      <td>ANON-0000-0000-0001</td>\n",
       "      <td>38.7</td>\n",
       "      <td>Latte</td>\n",
       "    </tr>\n",
       "    <tr>\n",
       "      <th>1</th>\n",
       "      <td>2024-03-01</td>\n",
       "      <td>2024-03-01 12:19:22.539</td>\n",
       "      <td>card</td>\n",
       "      <td>ANON-0000-0000-0002</td>\n",
       "      <td>38.7</td>\n",
       "      <td>Hot Chocolate</td>\n",
       "    </tr>\n",
       "    <tr>\n",
       "      <th>2</th>\n",
       "      <td>2024-03-01</td>\n",
       "      <td>2024-03-01 12:20:18.089</td>\n",
       "      <td>card</td>\n",
       "      <td>ANON-0000-0000-0002</td>\n",
       "      <td>38.7</td>\n",
       "      <td>Hot Chocolate</td>\n",
       "    </tr>\n",
       "    <tr>\n",
       "      <th>3</th>\n",
       "      <td>2024-03-01</td>\n",
       "      <td>2024-03-01 13:46:33.006</td>\n",
       "      <td>card</td>\n",
       "      <td>ANON-0000-0000-0003</td>\n",
       "      <td>28.9</td>\n",
       "      <td>Americano</td>\n",
       "    </tr>\n",
       "    <tr>\n",
       "      <th>4</th>\n",
       "      <td>2024-03-01</td>\n",
       "      <td>2024-03-01 13:48:14.626</td>\n",
       "      <td>card</td>\n",
       "      <td>ANON-0000-0000-0004</td>\n",
       "      <td>38.7</td>\n",
       "      <td>Latte</td>\n",
       "    </tr>\n",
       "  </tbody>\n",
       "</table>\n",
       "</div>"
      ],
      "text/plain": [
       "         date                 datetime cash_type                 card  money  \\\n",
       "0  2024-03-01  2024-03-01 10:15:50.520      card  ANON-0000-0000-0001   38.7   \n",
       "1  2024-03-01  2024-03-01 12:19:22.539      card  ANON-0000-0000-0002   38.7   \n",
       "2  2024-03-01  2024-03-01 12:20:18.089      card  ANON-0000-0000-0002   38.7   \n",
       "3  2024-03-01  2024-03-01 13:46:33.006      card  ANON-0000-0000-0003   28.9   \n",
       "4  2024-03-01  2024-03-01 13:48:14.626      card  ANON-0000-0000-0004   38.7   \n",
       "\n",
       "     coffee_name  \n",
       "0          Latte  \n",
       "1  Hot Chocolate  \n",
       "2  Hot Chocolate  \n",
       "3      Americano  \n",
       "4          Latte  "
      ]
     },
     "execution_count": 15,
     "metadata": {},
     "output_type": "execute_result"
    }
   ],
   "source": [
    "df = pd.read_csv('coffee_sales.csv')\n",
    "df.head()"
   ]
  },
  {
   "cell_type": "markdown",
   "id": "0737f315-a09a-4213-8845-390b3931479d",
   "metadata": {},
   "source": [
    "### Cleaning and transforming data"
   ]
  },
  {
   "cell_type": "markdown",
   "id": "1e655fd6-f41c-45b5-b1d5-03fba11fc469",
   "metadata": {},
   "source": [
    "#### Replacing null data"
   ]
  },
  {
   "cell_type": "code",
   "execution_count": 16,
   "id": "22c6da98-d0c9-4a16-bc42-ad238a1119da",
   "metadata": {},
   "outputs": [
    {
     "data": {
      "text/plain": [
       "date            0\n",
       "datetime        0\n",
       "cash_type       0\n",
       "card           89\n",
       "money           0\n",
       "coffee_name     0\n",
       "dtype: int64"
      ]
     },
     "execution_count": 16,
     "metadata": {},
     "output_type": "execute_result"
    }
   ],
   "source": [
    "df.isna().sum()"
   ]
  },
  {
   "cell_type": "code",
   "execution_count": 17,
   "id": "464a079f-4b58-4eaa-a6a6-67d622550aab",
   "metadata": {},
   "outputs": [
    {
     "data": {
      "text/html": [
       "<div>\n",
       "<style scoped>\n",
       "    .dataframe tbody tr th:only-of-type {\n",
       "        vertical-align: middle;\n",
       "    }\n",
       "\n",
       "    .dataframe tbody tr th {\n",
       "        vertical-align: top;\n",
       "    }\n",
       "\n",
       "    .dataframe thead th {\n",
       "        text-align: right;\n",
       "    }\n",
       "</style>\n",
       "<table border=\"1\" class=\"dataframe\">\n",
       "  <thead>\n",
       "    <tr style=\"text-align: right;\">\n",
       "      <th></th>\n",
       "      <th>date</th>\n",
       "      <th>datetime</th>\n",
       "      <th>cash_type</th>\n",
       "      <th>card</th>\n",
       "      <th>money</th>\n",
       "      <th>coffee_name</th>\n",
       "    </tr>\n",
       "  </thead>\n",
       "  <tbody>\n",
       "    <tr>\n",
       "      <th>0</th>\n",
       "      <td>2024-03-01</td>\n",
       "      <td>2024-03-01 10:15:50.520</td>\n",
       "      <td>card</td>\n",
       "      <td>ANON-0000-0000-0001</td>\n",
       "      <td>38.70</td>\n",
       "      <td>Latte</td>\n",
       "    </tr>\n",
       "    <tr>\n",
       "      <th>1</th>\n",
       "      <td>2024-03-01</td>\n",
       "      <td>2024-03-01 12:19:22.539</td>\n",
       "      <td>card</td>\n",
       "      <td>ANON-0000-0000-0002</td>\n",
       "      <td>38.70</td>\n",
       "      <td>Hot Chocolate</td>\n",
       "    </tr>\n",
       "    <tr>\n",
       "      <th>2</th>\n",
       "      <td>2024-03-01</td>\n",
       "      <td>2024-03-01 12:20:18.089</td>\n",
       "      <td>card</td>\n",
       "      <td>ANON-0000-0000-0002</td>\n",
       "      <td>38.70</td>\n",
       "      <td>Hot Chocolate</td>\n",
       "    </tr>\n",
       "    <tr>\n",
       "      <th>3</th>\n",
       "      <td>2024-03-01</td>\n",
       "      <td>2024-03-01 13:46:33.006</td>\n",
       "      <td>card</td>\n",
       "      <td>ANON-0000-0000-0003</td>\n",
       "      <td>28.90</td>\n",
       "      <td>Americano</td>\n",
       "    </tr>\n",
       "    <tr>\n",
       "      <th>4</th>\n",
       "      <td>2024-03-01</td>\n",
       "      <td>2024-03-01 13:48:14.626</td>\n",
       "      <td>card</td>\n",
       "      <td>ANON-0000-0000-0004</td>\n",
       "      <td>38.70</td>\n",
       "      <td>Latte</td>\n",
       "    </tr>\n",
       "    <tr>\n",
       "      <th>...</th>\n",
       "      <td>...</td>\n",
       "      <td>...</td>\n",
       "      <td>...</td>\n",
       "      <td>...</td>\n",
       "      <td>...</td>\n",
       "      <td>...</td>\n",
       "    </tr>\n",
       "    <tr>\n",
       "      <th>891</th>\n",
       "      <td>2024-06-29</td>\n",
       "      <td>2024-06-29 21:27:22.449</td>\n",
       "      <td>card</td>\n",
       "      <td>ANON-0000-0000-0009</td>\n",
       "      <td>37.72</td>\n",
       "      <td>Latte</td>\n",
       "    </tr>\n",
       "    <tr>\n",
       "      <th>892</th>\n",
       "      <td>2024-06-30</td>\n",
       "      <td>2024-06-30 10:28:09.842</td>\n",
       "      <td>card</td>\n",
       "      <td>ANON-0000-0000-0336</td>\n",
       "      <td>37.72</td>\n",
       "      <td>Latte</td>\n",
       "    </tr>\n",
       "    <tr>\n",
       "      <th>893</th>\n",
       "      <td>2024-06-30</td>\n",
       "      <td>2024-06-30 13:05:50.620</td>\n",
       "      <td>card</td>\n",
       "      <td>ANON-0000-0000-0337</td>\n",
       "      <td>23.02</td>\n",
       "      <td>Espresso</td>\n",
       "    </tr>\n",
       "    <tr>\n",
       "      <th>894</th>\n",
       "      <td>2024-06-30</td>\n",
       "      <td>2024-06-30 16:54:41.679</td>\n",
       "      <td>card</td>\n",
       "      <td>ANON-0000-0000-0009</td>\n",
       "      <td>37.72</td>\n",
       "      <td>Hot Chocolate</td>\n",
       "    </tr>\n",
       "    <tr>\n",
       "      <th>895</th>\n",
       "      <td>2024-06-30</td>\n",
       "      <td>2024-06-30 21:04:09.746</td>\n",
       "      <td>card</td>\n",
       "      <td>ANON-0000-0000-0097</td>\n",
       "      <td>32.82</td>\n",
       "      <td>Americano with Milk</td>\n",
       "    </tr>\n",
       "  </tbody>\n",
       "</table>\n",
       "<p>896 rows × 6 columns</p>\n",
       "</div>"
      ],
      "text/plain": [
       "           date                 datetime cash_type                 card  \\\n",
       "0    2024-03-01  2024-03-01 10:15:50.520      card  ANON-0000-0000-0001   \n",
       "1    2024-03-01  2024-03-01 12:19:22.539      card  ANON-0000-0000-0002   \n",
       "2    2024-03-01  2024-03-01 12:20:18.089      card  ANON-0000-0000-0002   \n",
       "3    2024-03-01  2024-03-01 13:46:33.006      card  ANON-0000-0000-0003   \n",
       "4    2024-03-01  2024-03-01 13:48:14.626      card  ANON-0000-0000-0004   \n",
       "..          ...                      ...       ...                  ...   \n",
       "891  2024-06-29  2024-06-29 21:27:22.449      card  ANON-0000-0000-0009   \n",
       "892  2024-06-30  2024-06-30 10:28:09.842      card  ANON-0000-0000-0336   \n",
       "893  2024-06-30  2024-06-30 13:05:50.620      card  ANON-0000-0000-0337   \n",
       "894  2024-06-30  2024-06-30 16:54:41.679      card  ANON-0000-0000-0009   \n",
       "895  2024-06-30  2024-06-30 21:04:09.746      card  ANON-0000-0000-0097   \n",
       "\n",
       "     money          coffee_name  \n",
       "0    38.70                Latte  \n",
       "1    38.70        Hot Chocolate  \n",
       "2    38.70        Hot Chocolate  \n",
       "3    28.90            Americano  \n",
       "4    38.70                Latte  \n",
       "..     ...                  ...  \n",
       "891  37.72                Latte  \n",
       "892  37.72                Latte  \n",
       "893  23.02             Espresso  \n",
       "894  37.72        Hot Chocolate  \n",
       "895  32.82  Americano with Milk  \n",
       "\n",
       "[896 rows x 6 columns]"
      ]
     },
     "execution_count": 17,
     "metadata": {},
     "output_type": "execute_result"
    }
   ],
   "source": [
    "# Replacing NaN value\n",
    "df.fillna('Cash')"
   ]
  },
  {
   "cell_type": "markdown",
   "id": "22619bf0-45e5-4708-8a4b-fcc04bf1eccf",
   "metadata": {},
   "source": [
    "### Changing data formats"
   ]
  },
  {
   "cell_type": "code",
   "execution_count": 18,
   "id": "378feceb-95d4-4d64-9438-c361ebc7c225",
   "metadata": {},
   "outputs": [
    {
     "data": {
      "text/plain": [
       "date            object\n",
       "datetime        object\n",
       "cash_type       object\n",
       "card            object\n",
       "money          float64\n",
       "coffee_name     object\n",
       "dtype: object"
      ]
     },
     "execution_count": 18,
     "metadata": {},
     "output_type": "execute_result"
    }
   ],
   "source": [
    "# Checking data formats\n",
    "df.dtypes"
   ]
  },
  {
   "cell_type": "code",
   "execution_count": 19,
   "id": "9306688e-78ea-4f9c-b33d-924295740a19",
   "metadata": {},
   "outputs": [],
   "source": [
    "df['date'] = pd.to_datetime(df['date'])\n",
    "df['datetime'] = pd.to_datetime(df['datetime'], format='%Y-%m-%d %H:%M:%S.%f')\n",
    "df['cash_type'] = df['cash_type'].astype('category')                "
   ]
  },
  {
   "cell_type": "code",
   "execution_count": 20,
   "id": "c4c8e908-e005-4d0b-bdcc-21515898ffb8",
   "metadata": {},
   "outputs": [],
   "source": [
    "# Extracting hours and minutes\n",
    "df['time'] = df['datetime'].dt.strftime('%H:%M')"
   ]
  },
  {
   "cell_type": "code",
   "execution_count": 23,
   "id": "e9f5baf4-9c56-4e29-9335-28e80c7fb50a",
   "metadata": {},
   "outputs": [],
   "source": [
    "# Deleting column 'datetime'\n",
    "df = df.drop(['datetime'], axis=1)"
   ]
  },
  {
   "cell_type": "markdown",
   "id": "92e10bcf-7c56-4612-8fa1-282d158dfa27",
   "metadata": {},
   "source": [
    "### Exporting updated dataframe"
   ]
  },
  {
   "cell_type": "code",
   "execution_count": 24,
   "id": "1f54844a-0d85-4cf5-900d-e88a7b84ab60",
   "metadata": {},
   "outputs": [],
   "source": [
    "df.to_excel('coffee_sales_cleaned.xlsx', index=False)"
   ]
  },
  {
   "cell_type": "code",
   "execution_count": null,
   "id": "a714141b-c0c8-4c55-b707-d7889c0639ad",
   "metadata": {},
   "outputs": [],
   "source": []
  }
 ],
 "metadata": {
  "kernelspec": {
   "display_name": "Python 3 (ipykernel)",
   "language": "python",
   "name": "python3"
  },
  "language_info": {
   "codemirror_mode": {
    "name": "ipython",
    "version": 3
   },
   "file_extension": ".py",
   "mimetype": "text/x-python",
   "name": "python",
   "nbconvert_exporter": "python",
   "pygments_lexer": "ipython3",
   "version": "3.12.4"
  }
 },
 "nbformat": 4,
 "nbformat_minor": 5
}
