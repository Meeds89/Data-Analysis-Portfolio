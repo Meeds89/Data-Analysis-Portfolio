{
 "cells": [
  {
   "cell_type": "markdown",
   "id": "0d3bd085-59bf-4a83-8ad2-7b0001ffb805",
   "metadata": {},
   "source": [
    "# Análise de Vendas de Cafés - Limpeza e Tratamento dos Dados"
   ]
  },
  {
   "cell_type": "markdown",
   "id": "2986fdc1-633c-4dbd-932a-eab508a1eba1",
   "metadata": {},
   "source": [
    "### Setup"
   ]
  },
  {
   "cell_type": "code",
   "execution_count": 1,
   "id": "49ac20b8-32e3-4da5-8682-593db7efcd06",
   "metadata": {},
   "outputs": [],
   "source": [
    "import pandas as pd"
   ]
  },
  {
   "cell_type": "code",
   "execution_count": 2,
   "id": "01612b40-bb6d-4308-a1e6-f02629135564",
   "metadata": {},
   "outputs": [
    {
     "data": {
      "text/html": [
       "<div>\n",
       "<style scoped>\n",
       "    .dataframe tbody tr th:only-of-type {\n",
       "        vertical-align: middle;\n",
       "    }\n",
       "\n",
       "    .dataframe tbody tr th {\n",
       "        vertical-align: top;\n",
       "    }\n",
       "\n",
       "    .dataframe thead th {\n",
       "        text-align: right;\n",
       "    }\n",
       "</style>\n",
       "<table border=\"1\" class=\"dataframe\">\n",
       "  <thead>\n",
       "    <tr style=\"text-align: right;\">\n",
       "      <th></th>\n",
       "      <th>date</th>\n",
       "      <th>datetime</th>\n",
       "      <th>cash_type</th>\n",
       "      <th>card</th>\n",
       "      <th>money</th>\n",
       "      <th>coffee_name</th>\n",
       "    </tr>\n",
       "  </thead>\n",
       "  <tbody>\n",
       "    <tr>\n",
       "      <th>0</th>\n",
       "      <td>2024-03-01</td>\n",
       "      <td>2024-03-01 10:15:50.520</td>\n",
       "      <td>card</td>\n",
       "      <td>ANON-0000-0000-0001</td>\n",
       "      <td>38.7</td>\n",
       "      <td>Latte</td>\n",
       "    </tr>\n",
       "    <tr>\n",
       "      <th>1</th>\n",
       "      <td>2024-03-01</td>\n",
       "      <td>2024-03-01 12:19:22.539</td>\n",
       "      <td>card</td>\n",
       "      <td>ANON-0000-0000-0002</td>\n",
       "      <td>38.7</td>\n",
       "      <td>Hot Chocolate</td>\n",
       "    </tr>\n",
       "    <tr>\n",
       "      <th>2</th>\n",
       "      <td>2024-03-01</td>\n",
       "      <td>2024-03-01 12:20:18.089</td>\n",
       "      <td>card</td>\n",
       "      <td>ANON-0000-0000-0002</td>\n",
       "      <td>38.7</td>\n",
       "      <td>Hot Chocolate</td>\n",
       "    </tr>\n",
       "    <tr>\n",
       "      <th>3</th>\n",
       "      <td>2024-03-01</td>\n",
       "      <td>2024-03-01 13:46:33.006</td>\n",
       "      <td>card</td>\n",
       "      <td>ANON-0000-0000-0003</td>\n",
       "      <td>28.9</td>\n",
       "      <td>Americano</td>\n",
       "    </tr>\n",
       "    <tr>\n",
       "      <th>4</th>\n",
       "      <td>2024-03-01</td>\n",
       "      <td>2024-03-01 13:48:14.626</td>\n",
       "      <td>card</td>\n",
       "      <td>ANON-0000-0000-0004</td>\n",
       "      <td>38.7</td>\n",
       "      <td>Latte</td>\n",
       "    </tr>\n",
       "  </tbody>\n",
       "</table>\n",
       "</div>"
      ],
      "text/plain": [
       "         date                 datetime cash_type                 card  money  \\\n",
       "0  2024-03-01  2024-03-01 10:15:50.520      card  ANON-0000-0000-0001   38.7   \n",
       "1  2024-03-01  2024-03-01 12:19:22.539      card  ANON-0000-0000-0002   38.7   \n",
       "2  2024-03-01  2024-03-01 12:20:18.089      card  ANON-0000-0000-0002   38.7   \n",
       "3  2024-03-01  2024-03-01 13:46:33.006      card  ANON-0000-0000-0003   28.9   \n",
       "4  2024-03-01  2024-03-01 13:48:14.626      card  ANON-0000-0000-0004   38.7   \n",
       "\n",
       "     coffee_name  \n",
       "0          Latte  \n",
       "1  Hot Chocolate  \n",
       "2  Hot Chocolate  \n",
       "3      Americano  \n",
       "4          Latte  "
      ]
     },
     "execution_count": 2,
     "metadata": {},
     "output_type": "execute_result"
    }
   ],
   "source": [
    "df = pd.read_csv('coffee_sales.csv')\n",
    "df.head()"
   ]
  },
  {
   "cell_type": "markdown",
   "id": "0d032b67-3817-498a-893d-260fd061a9f7",
   "metadata": {},
   "source": [
    "### Limpeza e Transformação dos Dados"
   ]
  },
  {
   "cell_type": "markdown",
   "id": "785a3415-c690-4983-b226-7c7b841817eb",
   "metadata": {},
   "source": [
    "#### Buscando valores nulos"
   ]
  },
  {
   "cell_type": "code",
   "execution_count": 3,
   "id": "6d3e5197-da62-4d26-af7c-b7239ca338d4",
   "metadata": {},
   "outputs": [
    {
     "data": {
      "text/plain": [
       "date            0\n",
       "datetime        0\n",
       "cash_type       0\n",
       "card           89\n",
       "money           0\n",
       "coffee_name     0\n",
       "dtype: int64"
      ]
     },
     "execution_count": 3,
     "metadata": {},
     "output_type": "execute_result"
    }
   ],
   "source": [
    "df.isna().sum()"
   ]
  },
  {
   "cell_type": "code",
   "execution_count": 4,
   "id": "e3ad6c16-3f43-4695-b154-3993d66e3317",
   "metadata": {},
   "outputs": [
    {
     "data": {
      "text/html": [
       "<div>\n",
       "<style scoped>\n",
       "    .dataframe tbody tr th:only-of-type {\n",
       "        vertical-align: middle;\n",
       "    }\n",
       "\n",
       "    .dataframe tbody tr th {\n",
       "        vertical-align: top;\n",
       "    }\n",
       "\n",
       "    .dataframe thead th {\n",
       "        text-align: right;\n",
       "    }\n",
       "</style>\n",
       "<table border=\"1\" class=\"dataframe\">\n",
       "  <thead>\n",
       "    <tr style=\"text-align: right;\">\n",
       "      <th></th>\n",
       "      <th>date</th>\n",
       "      <th>datetime</th>\n",
       "      <th>cash_type</th>\n",
       "      <th>card</th>\n",
       "      <th>money</th>\n",
       "      <th>coffee_name</th>\n",
       "    </tr>\n",
       "  </thead>\n",
       "  <tbody>\n",
       "    <tr>\n",
       "      <th>12</th>\n",
       "      <td>2024-03-02</td>\n",
       "      <td>2024-03-02 10:30:35.668</td>\n",
       "      <td>cash</td>\n",
       "      <td>NaN</td>\n",
       "      <td>40.0</td>\n",
       "      <td>Latte</td>\n",
       "    </tr>\n",
       "    <tr>\n",
       "      <th>18</th>\n",
       "      <td>2024-03-03</td>\n",
       "      <td>2024-03-03 10:10:43.981</td>\n",
       "      <td>cash</td>\n",
       "      <td>NaN</td>\n",
       "      <td>40.0</td>\n",
       "      <td>Latte</td>\n",
       "    </tr>\n",
       "    <tr>\n",
       "      <th>41</th>\n",
       "      <td>2024-03-06</td>\n",
       "      <td>2024-03-06 12:30:27.089</td>\n",
       "      <td>cash</td>\n",
       "      <td>NaN</td>\n",
       "      <td>35.0</td>\n",
       "      <td>Americano with Milk</td>\n",
       "    </tr>\n",
       "    <tr>\n",
       "      <th>46</th>\n",
       "      <td>2024-03-07</td>\n",
       "      <td>2024-03-07 10:08:58.945</td>\n",
       "      <td>cash</td>\n",
       "      <td>NaN</td>\n",
       "      <td>40.0</td>\n",
       "      <td>Latte</td>\n",
       "    </tr>\n",
       "    <tr>\n",
       "      <th>49</th>\n",
       "      <td>2024-03-07</td>\n",
       "      <td>2024-03-07 11:25:43.977</td>\n",
       "      <td>cash</td>\n",
       "      <td>NaN</td>\n",
       "      <td>40.0</td>\n",
       "      <td>Latte</td>\n",
       "    </tr>\n",
       "  </tbody>\n",
       "</table>\n",
       "</div>"
      ],
      "text/plain": [
       "          date                 datetime cash_type card  money  \\\n",
       "12  2024-03-02  2024-03-02 10:30:35.668      cash  NaN   40.0   \n",
       "18  2024-03-03  2024-03-03 10:10:43.981      cash  NaN   40.0   \n",
       "41  2024-03-06  2024-03-06 12:30:27.089      cash  NaN   35.0   \n",
       "46  2024-03-07  2024-03-07 10:08:58.945      cash  NaN   40.0   \n",
       "49  2024-03-07  2024-03-07 11:25:43.977      cash  NaN   40.0   \n",
       "\n",
       "            coffee_name  \n",
       "12                Latte  \n",
       "18                Latte  \n",
       "41  Americano with Milk  \n",
       "46                Latte  \n",
       "49                Latte  "
      ]
     },
     "execution_count": 4,
     "metadata": {},
     "output_type": "execute_result"
    }
   ],
   "source": [
    "# Mostrando valores nulos para entender a falta de dados\n",
    "df.loc[df['card'].isna()].head()"
   ]
  },
  {
   "cell_type": "markdown",
   "id": "2c3a9e9a-09e4-4289-ae52-505ff33302a2",
   "metadata": {},
   "source": [
    "#### Substituindo valores nulos"
   ]
  },
  {
   "cell_type": "code",
   "execution_count": 5,
   "id": "d6196aff-1390-4f03-bd90-cf77939bdc98",
   "metadata": {},
   "outputs": [],
   "source": [
    "df['card'] = df['card'].fillna('Cash')"
   ]
  },
  {
   "cell_type": "code",
   "execution_count": 6,
   "id": "1b0927b4-a936-4c73-8647-72710a72efff",
   "metadata": {},
   "outputs": [
    {
     "data": {
      "text/plain": [
       "date           0\n",
       "datetime       0\n",
       "cash_type      0\n",
       "card           0\n",
       "money          0\n",
       "coffee_name    0\n",
       "dtype: int64"
      ]
     },
     "execution_count": 6,
     "metadata": {},
     "output_type": "execute_result"
    }
   ],
   "source": [
    "# Checkando contagem de valores nulos para verificar sucesso na mudança\n",
    "df.isna().sum()"
   ]
  },
  {
   "cell_type": "markdown",
   "id": "3153075c-236a-48ee-bdea-53f3e30ef22a",
   "metadata": {},
   "source": [
    "#### Checkando formatação dos dados"
   ]
  },
  {
   "cell_type": "code",
   "execution_count": 7,
   "id": "5c0e0238-c812-4e05-9f6f-bd3589ffe145",
   "metadata": {},
   "outputs": [
    {
     "data": {
      "text/plain": [
       "date            object\n",
       "datetime        object\n",
       "cash_type       object\n",
       "card            object\n",
       "money          float64\n",
       "coffee_name     object\n",
       "dtype: object"
      ]
     },
     "execution_count": 7,
     "metadata": {},
     "output_type": "execute_result"
    }
   ],
   "source": [
    "df.dtypes"
   ]
  },
  {
   "cell_type": "markdown",
   "id": "24e5d873-9239-4d96-9631-256b8d8edce7",
   "metadata": {},
   "source": [
    "#### Alterando tipos de dados"
   ]
  },
  {
   "cell_type": "code",
   "execution_count": 8,
   "id": "009285fa-9982-47fc-9137-4acc58129967",
   "metadata": {},
   "outputs": [],
   "source": [
    "df['date'] = pd.to_datetime(df['date'])\n",
    "df['datetime'] = pd.to_datetime(df['datetime'], format='%Y-%m-%d %H:%M:%S.%f')\n",
    "df['cash_type'] = df['cash_type'].astype('category')"
   ]
  },
  {
   "cell_type": "code",
   "execution_count": 9,
   "id": "34774206-d5fd-40bf-a224-3eed4993eb46",
   "metadata": {},
   "outputs": [],
   "source": [
    "# Extraindo horas e minutos\n",
    "df['time'] = df['datetime'].dt.strftime('%H:%M')"
   ]
  },
  {
   "cell_type": "code",
   "execution_count": 10,
   "id": "26004950-f919-46fe-a620-5bb331a0985c",
   "metadata": {},
   "outputs": [
    {
     "data": {
      "text/plain": [
       "date           datetime64[ns]\n",
       "datetime       datetime64[ns]\n",
       "cash_type            category\n",
       "card                   object\n",
       "money                 float64\n",
       "coffee_name            object\n",
       "time                   object\n",
       "dtype: object"
      ]
     },
     "execution_count": 10,
     "metadata": {},
     "output_type": "execute_result"
    }
   ],
   "source": [
    "# Checkando nova formatação\n",
    "df.dtypes"
   ]
  },
  {
   "cell_type": "code",
   "execution_count": 11,
   "id": "4fcaa533-7ff5-480c-a5ba-abd27e016093",
   "metadata": {},
   "outputs": [],
   "source": [
    "# Deletando coluna Datetime\n",
    "df = df.drop(['datetime'], axis=1)"
   ]
  },
  {
   "cell_type": "markdown",
   "id": "8e8a720a-6d71-4226-88da-a515abc7497e",
   "metadata": {},
   "source": [
    "### Exportando tabela como Excel"
   ]
  },
  {
   "cell_type": "code",
   "execution_count": 12,
   "id": "228bb22e-a26c-4250-8b92-baf568156d52",
   "metadata": {},
   "outputs": [],
   "source": [
    "df.to_excel('vendas_cafe_limpo.xlsx', index=False)"
   ]
  }
 ],
 "metadata": {
  "kernelspec": {
   "display_name": "Python 3 (ipykernel)",
   "language": "python",
   "name": "python3"
  },
  "language_info": {
   "codemirror_mode": {
    "name": "ipython",
    "version": 3
   },
   "file_extension": ".py",
   "mimetype": "text/x-python",
   "name": "python",
   "nbconvert_exporter": "python",
   "pygments_lexer": "ipython3",
   "version": "3.12.4"
  }
 },
 "nbformat": 4,
 "nbformat_minor": 5
}
