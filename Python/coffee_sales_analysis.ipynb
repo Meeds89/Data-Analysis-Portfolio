{
 "cells": [
  {
   "cell_type": "markdown",
   "id": "d52b6fbd-a8af-4bda-a9ee-c397ff27aed7",
   "metadata": {},
   "source": [
    "# Coffee Sales"
   ]
  },
  {
   "cell_type": "markdown",
   "id": "85157c0d-7602-420a-942d-d21c992b89f5",
   "metadata": {},
   "source": [
    "**Objective:** This project aims to analyze a dataset of coffee sales from a vending machine. The analysis seeks to understand customer purchasing patterns, sales trends over time, and customer preferences for different types of coffee. Additionally, the influence of payment methods on sales is evaluated. The ultimate goal is to provide actionable insights to optimize sales and improve customer satisfaction."
   ]
  },
  {
   "cell_type": "markdown",
   "id": "ee01317d-a00e-4768-868d-67796f06ab64",
   "metadata": {},
   "source": [
    "### Setup"
   ]
  },
  {
   "cell_type": "code",
   "execution_count": 1,
   "id": "13f586a6-24c5-4679-95c0-335163544540",
   "metadata": {},
   "outputs": [],
   "source": [
    "import pandas as pd\n",
    "import matplotlib.pyplot as plt"
   ]
  },
  {
   "cell_type": "code",
   "execution_count": 2,
   "id": "e200a0e7-ec8b-4a4d-bbae-b2c165ebe403",
   "metadata": {},
   "outputs": [
    {
     "data": {
      "text/html": [
       "<div>\n",
       "<style scoped>\n",
       "    .dataframe tbody tr th:only-of-type {\n",
       "        vertical-align: middle;\n",
       "    }\n",
       "\n",
       "    .dataframe tbody tr th {\n",
       "        vertical-align: top;\n",
       "    }\n",
       "\n",
       "    .dataframe thead th {\n",
       "        text-align: right;\n",
       "    }\n",
       "</style>\n",
       "<table border=\"1\" class=\"dataframe\">\n",
       "  <thead>\n",
       "    <tr style=\"text-align: right;\">\n",
       "      <th></th>\n",
       "      <th>date</th>\n",
       "      <th>datetime</th>\n",
       "      <th>cash_type</th>\n",
       "      <th>card</th>\n",
       "      <th>money</th>\n",
       "      <th>coffee_name</th>\n",
       "    </tr>\n",
       "  </thead>\n",
       "  <tbody>\n",
       "    <tr>\n",
       "      <th>0</th>\n",
       "      <td>2024-03-01</td>\n",
       "      <td>2024-03-01 10:15:50.520</td>\n",
       "      <td>card</td>\n",
       "      <td>ANON-0000-0000-0001</td>\n",
       "      <td>38.7</td>\n",
       "      <td>Latte</td>\n",
       "    </tr>\n",
       "    <tr>\n",
       "      <th>1</th>\n",
       "      <td>2024-03-01</td>\n",
       "      <td>2024-03-01 12:19:22.539</td>\n",
       "      <td>card</td>\n",
       "      <td>ANON-0000-0000-0002</td>\n",
       "      <td>38.7</td>\n",
       "      <td>Hot Chocolate</td>\n",
       "    </tr>\n",
       "  </tbody>\n",
       "</table>\n",
       "</div>"
      ],
      "text/plain": [
       "         date                 datetime cash_type                 card  money  \\\n",
       "0  2024-03-01  2024-03-01 10:15:50.520      card  ANON-0000-0000-0001   38.7   \n",
       "1  2024-03-01  2024-03-01 12:19:22.539      card  ANON-0000-0000-0002   38.7   \n",
       "\n",
       "     coffee_name  \n",
       "0          Latte  \n",
       "1  Hot Chocolate  "
      ]
     },
     "execution_count": 2,
     "metadata": {},
     "output_type": "execute_result"
    }
   ],
   "source": [
    "base = pd.read_csv('coffee_sales.csv')\n",
    "base.head(2)"
   ]
  },
  {
   "cell_type": "markdown",
   "id": "35a82985-a253-481e-93ca-8c55063d337e",
   "metadata": {},
   "source": [
    "### Data cleaning and transformation"
   ]
  },
  {
   "cell_type": "code",
   "execution_count": 3,
   "id": "5c7f1793-248f-458a-87ea-449bc923c27d",
   "metadata": {},
   "outputs": [
    {
     "data": {
      "text/plain": [
       "date            0\n",
       "datetime        0\n",
       "cash_type       0\n",
       "card           89\n",
       "money           0\n",
       "coffee_name     0\n",
       "dtype: int64"
      ]
     },
     "execution_count": 3,
     "metadata": {},
     "output_type": "execute_result"
    }
   ],
   "source": [
    "# Searching for missing values\n",
    "\n",
    "base.isna().sum()"
   ]
  },
  {
   "cell_type": "code",
   "execution_count": 4,
   "id": "a58870ee-568a-4615-a438-c350d003235a",
   "metadata": {},
   "outputs": [
    {
     "data": {
      "text/html": [
       "<div>\n",
       "<style scoped>\n",
       "    .dataframe tbody tr th:only-of-type {\n",
       "        vertical-align: middle;\n",
       "    }\n",
       "\n",
       "    .dataframe tbody tr th {\n",
       "        vertical-align: top;\n",
       "    }\n",
       "\n",
       "    .dataframe thead th {\n",
       "        text-align: right;\n",
       "    }\n",
       "</style>\n",
       "<table border=\"1\" class=\"dataframe\">\n",
       "  <thead>\n",
       "    <tr style=\"text-align: right;\">\n",
       "      <th></th>\n",
       "      <th>date</th>\n",
       "      <th>datetime</th>\n",
       "      <th>cash_type</th>\n",
       "      <th>card</th>\n",
       "      <th>money</th>\n",
       "      <th>coffee_name</th>\n",
       "    </tr>\n",
       "  </thead>\n",
       "  <tbody>\n",
       "    <tr>\n",
       "      <th>12</th>\n",
       "      <td>2024-03-02</td>\n",
       "      <td>2024-03-02 10:30:35.668</td>\n",
       "      <td>cash</td>\n",
       "      <td>NaN</td>\n",
       "      <td>40.0</td>\n",
       "      <td>Latte</td>\n",
       "    </tr>\n",
       "    <tr>\n",
       "      <th>18</th>\n",
       "      <td>2024-03-03</td>\n",
       "      <td>2024-03-03 10:10:43.981</td>\n",
       "      <td>cash</td>\n",
       "      <td>NaN</td>\n",
       "      <td>40.0</td>\n",
       "      <td>Latte</td>\n",
       "    </tr>\n",
       "  </tbody>\n",
       "</table>\n",
       "</div>"
      ],
      "text/plain": [
       "          date                 datetime cash_type card  money coffee_name\n",
       "12  2024-03-02  2024-03-02 10:30:35.668      cash  NaN   40.0       Latte\n",
       "18  2024-03-03  2024-03-03 10:10:43.981      cash  NaN   40.0       Latte"
      ]
     },
     "execution_count": 4,
     "metadata": {},
     "output_type": "execute_result"
    }
   ],
   "source": [
    "# Investigating the null values\n",
    "nulls = base.loc[base['card'].isna()]\n",
    "nulls.head(2)"
   ]
  },
  {
   "cell_type": "code",
   "execution_count": 5,
   "id": "a0c6ade2-9264-410c-b339-5e08e432e4f4",
   "metadata": {},
   "outputs": [],
   "source": [
    "# Missing values was paid by cash and have no card number\n",
    "base = base.fillna('Cash')"
   ]
  },
  {
   "cell_type": "code",
   "execution_count": 6,
   "id": "6060ba75-a6a5-453d-9398-536735f424d5",
   "metadata": {},
   "outputs": [],
   "source": [
    "# Dropping 'datetime' column\n",
    "base = base.drop('datetime', axis=1)"
   ]
  },
  {
   "cell_type": "code",
   "execution_count": 7,
   "id": "d1a32bea-b3f2-42d4-b2c8-3cf94ba6c881",
   "metadata": {},
   "outputs": [
    {
     "data": {
      "text/plain": [
       "date            object\n",
       "cash_type       object\n",
       "card            object\n",
       "money          float64\n",
       "coffee_name     object\n",
       "dtype: object"
      ]
     },
     "execution_count": 7,
     "metadata": {},
     "output_type": "execute_result"
    }
   ],
   "source": [
    "# Checking data types\n",
    "base.dtypes"
   ]
  },
  {
   "cell_type": "code",
   "execution_count": 8,
   "id": "db24b7dc-7944-4bbb-91a7-b7f74a0fac80",
   "metadata": {},
   "outputs": [],
   "source": [
    "# Altering data types\n",
    "base['date'] = pd.to_datetime(base['date'])\n",
    "base['cash_type'] = base['cash_type'].astype('category')"
   ]
  },
  {
   "cell_type": "markdown",
   "id": "70212361-6876-41d7-977e-e6f2d85acb95",
   "metadata": {},
   "source": [
    "### EDA"
   ]
  },
  {
   "cell_type": "code",
   "execution_count": 9,
   "id": "e779b023-4d28-461f-9c29-80d8e499a8aa",
   "metadata": {},
   "outputs": [
    {
     "data": {
      "image/png": "[encoded data removed]",
      "text/plain": [
       "<Figure size 300x200 with 1 Axes>"
      ]
     },
     "metadata": {},
     "output_type": "display_data"
    }
   ],
   "source": [
    "# Sales distribution\n",
    "import seaborn as sns\n",
    "\n",
    "plt.figure(figsize=(3,2))\n",
    "sns.barplot(x = base.groupby('coffee_name').count().index, y = base.groupby('coffee_name')['coffee_name'].count())\n",
    "\n",
    "plt.xticks(rotation=90)\n",
    "plt.xlabel('Coffees')\n",
    "plt.ylabel('Sales')\n",
    "plt.title('Sales Distribution')\n",
    "plt.show()\n"
   ]
  },
  {
   "cell_type": "code",
   "execution_count": 10,
   "id": "2e8a00d3-6c3d-48c6-a982-4068baf703d8",
   "metadata": {},
   "outputs": [
    {
     "data": {
      "text/plain": [
       "month\n",
       "3    7050.20\n",
       "4    6720.56\n",
       "5    9063.42\n",
       "6    7758.76\n",
       "Name: money, dtype: float64"
      ]
     },
     "execution_count": 10,
     "metadata": {},
     "output_type": "execute_result"
    }
   ],
   "source": [
    "# Monthly Revenue\n",
    "base['month'] = base.date.dt.month\n",
    "base.groupby('month')['money'].sum()"
   ]
  },
  {
   "cell_type": "code",
   "execution_count": 11,
   "id": "430b34cb-36bd-48a4-8aba-b6fd73134844",
   "metadata": {},
   "outputs": [
    {
     "data": {
      "image/png": "[encoded data removed]",
      "text/plain": [
       "<Figure size 200x200 with 1 Axes>"
      ]
     },
     "metadata": {},
     "output_type": "display_data"
    }
   ],
   "source": [
    "plt.figure(figsize=(2,2))\n",
    "base['cash_type'].value_counts().plot.pie(autopct='%1.1f%%')\n",
    "plt.title('Distribution by Payment Method')\n",
    "plt.ylabel('')\n",
    "plt.show()"
   ]
  }
 ],
 "metadata": {
  "kernelspec": {
   "display_name": "Python 3 (ipykernel)",
   "language": "python",
   "name": "python3"
  },
  "language_info": {
   "codemirror_mode": {
    "name": "ipython",
    "version": 3
   },
   "file_extension": ".py",
   "mimetype": "text/x-python",
   "name": "python",
   "nbconvert_exporter": "python",
   "pygments_lexer": "ipython3",
   "version": "3.12.4"
  }
 },
 "nbformat": 4,
 "nbformat_minor": 5
}
