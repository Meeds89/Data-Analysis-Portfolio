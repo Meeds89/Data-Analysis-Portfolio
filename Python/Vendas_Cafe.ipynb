{
 "cells": [
  {
   "cell_type": "markdown",
   "id": "7b83cb38-8a62-4bfa-b867-3b51dbb79551",
   "metadata": {},
   "source": [
    "# Análise de Vendas de Café"
   ]
  },
  {
   "cell_type": "markdown",
   "id": "b2baef33-bffd-4464-9c9d-7350a8a111e1",
   "metadata": {},
   "source": [
    "### Setup"
   ]
  },
  {
   "cell_type": "code",
   "execution_count": 1,
   "id": "120ea5aa-25f2-4459-96b2-0ba5cd898f08",
   "metadata": {},
   "outputs": [],
   "source": [
    "import pandas as pd"
   ]
  },
  {
   "cell_type": "code",
   "execution_count": 2,
   "id": "98c2ab61-1d6b-4b49-b923-099a77bda356",
   "metadata": {},
   "outputs": [
    {
     "data": {
      "text/html": [
       "<div>\n",
       "<style scoped>\n",
       "    .dataframe tbody tr th:only-of-type {\n",
       "        vertical-align: middle;\n",
       "    }\n",
       "\n",
       "    .dataframe tbody tr th {\n",
       "        vertical-align: top;\n",
       "    }\n",
       "\n",
       "    .dataframe thead th {\n",
       "        text-align: right;\n",
       "    }\n",
       "</style>\n",
       "<table border=\"1\" class=\"dataframe\">\n",
       "  <thead>\n",
       "    <tr style=\"text-align: right;\">\n",
       "      <th></th>\n",
       "      <th>date</th>\n",
       "      <th>datetime</th>\n",
       "      <th>cash_type</th>\n",
       "      <th>card</th>\n",
       "      <th>money</th>\n",
       "      <th>coffee_name</th>\n",
       "    </tr>\n",
       "  </thead>\n",
       "  <tbody>\n",
       "    <tr>\n",
       "      <th>0</th>\n",
       "      <td>2024-03-01</td>\n",
       "      <td>2024-03-01 10:15:50.520</td>\n",
       "      <td>card</td>\n",
       "      <td>ANON-0000-0000-0001</td>\n",
       "      <td>38.7</td>\n",
       "      <td>Latte</td>\n",
       "    </tr>\n",
       "    <tr>\n",
       "      <th>1</th>\n",
       "      <td>2024-03-01</td>\n",
       "      <td>2024-03-01 12:19:22.539</td>\n",
       "      <td>card</td>\n",
       "      <td>ANON-0000-0000-0002</td>\n",
       "      <td>38.7</td>\n",
       "      <td>Hot Chocolate</td>\n",
       "    </tr>\n",
       "    <tr>\n",
       "      <th>2</th>\n",
       "      <td>2024-03-01</td>\n",
       "      <td>2024-03-01 12:20:18.089</td>\n",
       "      <td>card</td>\n",
       "      <td>ANON-0000-0000-0002</td>\n",
       "      <td>38.7</td>\n",
       "      <td>Hot Chocolate</td>\n",
       "    </tr>\n",
       "    <tr>\n",
       "      <th>3</th>\n",
       "      <td>2024-03-01</td>\n",
       "      <td>2024-03-01 13:46:33.006</td>\n",
       "      <td>card</td>\n",
       "      <td>ANON-0000-0000-0003</td>\n",
       "      <td>28.9</td>\n",
       "      <td>Americano</td>\n",
       "    </tr>\n",
       "    <tr>\n",
       "      <th>4</th>\n",
       "      <td>2024-03-01</td>\n",
       "      <td>2024-03-01 13:48:14.626</td>\n",
       "      <td>card</td>\n",
       "      <td>ANON-0000-0000-0004</td>\n",
       "      <td>38.7</td>\n",
       "      <td>Latte</td>\n",
       "    </tr>\n",
       "  </tbody>\n",
       "</table>\n",
       "</div>"
      ],
      "text/plain": [
       "         date                 datetime cash_type                 card  money  \\\n",
       "0  2024-03-01  2024-03-01 10:15:50.520      card  ANON-0000-0000-0001   38.7   \n",
       "1  2024-03-01  2024-03-01 12:19:22.539      card  ANON-0000-0000-0002   38.7   \n",
       "2  2024-03-01  2024-03-01 12:20:18.089      card  ANON-0000-0000-0002   38.7   \n",
       "3  2024-03-01  2024-03-01 13:46:33.006      card  ANON-0000-0000-0003   28.9   \n",
       "4  2024-03-01  2024-03-01 13:48:14.626      card  ANON-0000-0000-0004   38.7   \n",
       "\n",
       "     coffee_name  \n",
       "0          Latte  \n",
       "1  Hot Chocolate  \n",
       "2  Hot Chocolate  \n",
       "3      Americano  \n",
       "4          Latte  "
      ]
     },
     "execution_count": 2,
     "metadata": {},
     "output_type": "execute_result"
    }
   ],
   "source": [
    "df = pd.read_csv('coffee_sales.csv')\n",
    "df.head()"
   ]
  },
  {
   "cell_type": "markdown",
   "id": "c09d0faa-45ed-4278-afb4-bf0a00ad6221",
   "metadata": {},
   "source": [
    "## Limpeza e Transformação de Dados"
   ]
  },
  {
   "cell_type": "markdown",
   "id": "a475956b-e7cf-4ceb-af53-c65778d428f1",
   "metadata": {},
   "source": [
    "#### Buscando Valores nulos"
   ]
  },
  {
   "cell_type": "code",
   "execution_count": 4,
   "id": "7a4238a6-9f53-43f6-9f5a-31e8d72de26c",
   "metadata": {},
   "outputs": [
    {
     "data": {
      "text/plain": [
       "date            0\n",
       "datetime        0\n",
       "cash_type       0\n",
       "card           89\n",
       "money           0\n",
       "coffee_name     0\n",
       "dtype: int64"
      ]
     },
     "execution_count": 4,
     "metadata": {},
     "output_type": "execute_result"
    }
   ],
   "source": [
    "df.isna().sum()"
   ]
  },
  {
   "cell_type": "code",
   "execution_count": 5,
   "id": "c1428e4d-3c0f-493d-b435-2d82d4025ec5",
   "metadata": {},
   "outputs": [
    {
     "data": {
      "text/html": [
       "<div>\n",
       "<style scoped>\n",
       "    .dataframe tbody tr th:only-of-type {\n",
       "        vertical-align: middle;\n",
       "    }\n",
       "\n",
       "    .dataframe tbody tr th {\n",
       "        vertical-align: top;\n",
       "    }\n",
       "\n",
       "    .dataframe thead th {\n",
       "        text-align: right;\n",
       "    }\n",
       "</style>\n",
       "<table border=\"1\" class=\"dataframe\">\n",
       "  <thead>\n",
       "    <tr style=\"text-align: right;\">\n",
       "      <th></th>\n",
       "      <th>date</th>\n",
       "      <th>datetime</th>\n",
       "      <th>cash_type</th>\n",
       "      <th>card</th>\n",
       "      <th>money</th>\n",
       "      <th>coffee_name</th>\n",
       "    </tr>\n",
       "  </thead>\n",
       "  <tbody>\n",
       "    <tr>\n",
       "      <th>12</th>\n",
       "      <td>2024-03-02</td>\n",
       "      <td>2024-03-02 10:30:35.668</td>\n",
       "      <td>cash</td>\n",
       "      <td>NaN</td>\n",
       "      <td>40.0</td>\n",
       "      <td>Latte</td>\n",
       "    </tr>\n",
       "    <tr>\n",
       "      <th>18</th>\n",
       "      <td>2024-03-03</td>\n",
       "      <td>2024-03-03 10:10:43.981</td>\n",
       "      <td>cash</td>\n",
       "      <td>NaN</td>\n",
       "      <td>40.0</td>\n",
       "      <td>Latte</td>\n",
       "    </tr>\n",
       "    <tr>\n",
       "      <th>41</th>\n",
       "      <td>2024-03-06</td>\n",
       "      <td>2024-03-06 12:30:27.089</td>\n",
       "      <td>cash</td>\n",
       "      <td>NaN</td>\n",
       "      <td>35.0</td>\n",
       "      <td>Americano with Milk</td>\n",
       "    </tr>\n",
       "    <tr>\n",
       "      <th>46</th>\n",
       "      <td>2024-03-07</td>\n",
       "      <td>2024-03-07 10:08:58.945</td>\n",
       "      <td>cash</td>\n",
       "      <td>NaN</td>\n",
       "      <td>40.0</td>\n",
       "      <td>Latte</td>\n",
       "    </tr>\n",
       "    <tr>\n",
       "      <th>49</th>\n",
       "      <td>2024-03-07</td>\n",
       "      <td>2024-03-07 11:25:43.977</td>\n",
       "      <td>cash</td>\n",
       "      <td>NaN</td>\n",
       "      <td>40.0</td>\n",
       "      <td>Latte</td>\n",
       "    </tr>\n",
       "  </tbody>\n",
       "</table>\n",
       "</div>"
      ],
      "text/plain": [
       "          date                 datetime cash_type card  money  \\\n",
       "12  2024-03-02  2024-03-02 10:30:35.668      cash  NaN   40.0   \n",
       "18  2024-03-03  2024-03-03 10:10:43.981      cash  NaN   40.0   \n",
       "41  2024-03-06  2024-03-06 12:30:27.089      cash  NaN   35.0   \n",
       "46  2024-03-07  2024-03-07 10:08:58.945      cash  NaN   40.0   \n",
       "49  2024-03-07  2024-03-07 11:25:43.977      cash  NaN   40.0   \n",
       "\n",
       "            coffee_name  \n",
       "12                Latte  \n",
       "18                Latte  \n",
       "41  Americano with Milk  \n",
       "46                Latte  \n",
       "49                Latte  "
      ]
     },
     "execution_count": 5,
     "metadata": {},
     "output_type": "execute_result"
    }
   ],
   "source": [
    "# Mostrando valores nulos para entender a falta de dados\n",
    "df.loc[df['card'].isna()].head()"
   ]
  },
  {
   "cell_type": "markdown",
   "id": "b73d1c1c-97e0-49e2-a32c-aac2d5235fcc",
   "metadata": {},
   "source": [
    "#### Substituindo Valores Nulos"
   ]
  },
  {
   "cell_type": "code",
   "execution_count": 7,
   "id": "82f7483f-dad6-4049-a2f8-bf8a44311655",
   "metadata": {},
   "outputs": [],
   "source": [
    "df['card'] = df['card'].fillna('Cash')"
   ]
  },
  {
   "cell_type": "code",
   "execution_count": 8,
   "id": "07eddc72-a416-47e2-8f70-051dadc4ee5b",
   "metadata": {},
   "outputs": [
    {
     "data": {
      "text/plain": [
       "date           0\n",
       "datetime       0\n",
       "cash_type      0\n",
       "card           0\n",
       "money          0\n",
       "coffee_name    0\n",
       "dtype: int64"
      ]
     },
     "execution_count": 8,
     "metadata": {},
     "output_type": "execute_result"
    }
   ],
   "source": [
    "# Checkando contagem de valores nulos para verificar sucesso na mudança\n",
    "df.isna().sum()"
   ]
  },
  {
   "cell_type": "markdown",
   "id": "fe748278-5b1d-4dfb-bb1f-c070968625bb",
   "metadata": {},
   "source": [
    "#### Verificando Formatação de Dados"
   ]
  },
  {
   "cell_type": "code",
   "execution_count": 10,
   "id": "fb28d7d1-0d1e-489d-a06a-1049866bc458",
   "metadata": {},
   "outputs": [
    {
     "data": {
      "text/plain": [
       "date            object\n",
       "datetime        object\n",
       "cash_type       object\n",
       "card            object\n",
       "money          float64\n",
       "coffee_name     object\n",
       "dtype: object"
      ]
     },
     "execution_count": 10,
     "metadata": {},
     "output_type": "execute_result"
    }
   ],
   "source": [
    "df.dtypes"
   ]
  },
  {
   "cell_type": "markdown",
   "id": "bfb170a9-9386-4525-b674-088a078a376a",
   "metadata": {},
   "source": [
    "#### Alterando tipos de dados"
   ]
  },
  {
   "cell_type": "code",
   "execution_count": 11,
   "id": "c807d854-a79c-49fb-8377-56ffeaa65a16",
   "metadata": {},
   "outputs": [],
   "source": [
    "df['date'] = pd.to_datetime(df['date'])\n",
    "df['datetime'] = pd.to_datetime(df['datetime'], format='%Y-%m-%d %H:%M:%S.%f')\n",
    "df['cash_type'] = df['cash_type'].astype('category')"
   ]
  },
  {
   "cell_type": "code",
   "execution_count": 12,
   "id": "42558f3b-a60c-4dc7-b704-f4b51d17b61c",
   "metadata": {},
   "outputs": [],
   "source": [
    "# Extraindo horas e minutos\n",
    "df['time'] = df['datetime'].dt.strftime('%H:%M')"
   ]
  },
  {
   "cell_type": "code",
   "execution_count": 13,
   "id": "894c3bf3-bb1e-4206-a9d7-88c278693fbe",
   "metadata": {},
   "outputs": [
    {
     "data": {
      "text/plain": [
       "date           datetime64[ns]\n",
       "datetime       datetime64[ns]\n",
       "cash_type            category\n",
       "card                   object\n",
       "money                 float64\n",
       "coffee_name            object\n",
       "time                   object\n",
       "dtype: object"
      ]
     },
     "execution_count": 13,
     "metadata": {},
     "output_type": "execute_result"
    }
   ],
   "source": [
    "# Checkando nova formatação\n",
    "df.dtypes"
   ]
  },
  {
   "cell_type": "code",
   "execution_count": 14,
   "id": "cb1bd151-c6ed-4dac-876f-d96dbff9ba0b",
   "metadata": {},
   "outputs": [],
   "source": [
    "# Deletando coluna Datetime\n",
    "df = df.drop(['datetime'], axis=1)"
   ]
  },
  {
   "cell_type": "markdown",
   "id": "75a8ad12-7792-4b74-8176-d82526280b7d",
   "metadata": {},
   "source": [
    "## Análise Exploratória"
   ]
  },
  {
   "cell_type": "code",
   "execution_count": 15,
   "id": "58fc0c3d-efbf-4393-864f-3b43130d6d95",
   "metadata": {},
   "outputs": [],
   "source": [
    "import matplotlib.pyplot as plt"
   ]
  },
  {
   "cell_type": "markdown",
   "id": "9bd61dcd-59bf-4ca6-945e-a988f4e51632",
   "metadata": {},
   "source": [
    "### Dados Estatísticos"
   ]
  },
  {
   "cell_type": "code",
   "execution_count": 16,
   "id": "ae2e1fbf-1694-4954-9ba8-9f4c24a5dc51",
   "metadata": {},
   "outputs": [
    {
     "data": {
      "text/html": [
       "<div>\n",
       "<style scoped>\n",
       "    .dataframe tbody tr th:only-of-type {\n",
       "        vertical-align: middle;\n",
       "    }\n",
       "\n",
       "    .dataframe tbody tr th {\n",
       "        vertical-align: top;\n",
       "    }\n",
       "\n",
       "    .dataframe thead th {\n",
       "        text-align: right;\n",
       "    }\n",
       "</style>\n",
       "<table border=\"1\" class=\"dataframe\">\n",
       "  <thead>\n",
       "    <tr style=\"text-align: right;\">\n",
       "      <th></th>\n",
       "      <th>date</th>\n",
       "      <th>money</th>\n",
       "    </tr>\n",
       "  </thead>\n",
       "  <tbody>\n",
       "    <tr>\n",
       "      <th>count</th>\n",
       "      <td>896</td>\n",
       "      <td>896.000000</td>\n",
       "    </tr>\n",
       "    <tr>\n",
       "      <th>mean</th>\n",
       "      <td>2024-05-03 07:33:12.857143040</td>\n",
       "      <td>34.143906</td>\n",
       "    </tr>\n",
       "    <tr>\n",
       "      <th>min</th>\n",
       "      <td>2024-03-01 00:00:00</td>\n",
       "      <td>23.020000</td>\n",
       "    </tr>\n",
       "    <tr>\n",
       "      <th>25%</th>\n",
       "      <td>2024-04-04 00:00:00</td>\n",
       "      <td>28.900000</td>\n",
       "    </tr>\n",
       "    <tr>\n",
       "      <th>50%</th>\n",
       "      <td>2024-05-11 00:00:00</td>\n",
       "      <td>34.500000</td>\n",
       "    </tr>\n",
       "    <tr>\n",
       "      <th>75%</th>\n",
       "      <td>2024-06-01 00:00:00</td>\n",
       "      <td>37.720000</td>\n",
       "    </tr>\n",
       "    <tr>\n",
       "      <th>max</th>\n",
       "      <td>2024-06-30 00:00:00</td>\n",
       "      <td>40.000000</td>\n",
       "    </tr>\n",
       "    <tr>\n",
       "      <th>std</th>\n",
       "      <td>NaN</td>\n",
       "      <td>4.573951</td>\n",
       "    </tr>\n",
       "  </tbody>\n",
       "</table>\n",
       "</div>"
      ],
      "text/plain": [
       "                                date       money\n",
       "count                            896  896.000000\n",
       "mean   2024-05-03 07:33:12.857143040   34.143906\n",
       "min              2024-03-01 00:00:00   23.020000\n",
       "25%              2024-04-04 00:00:00   28.900000\n",
       "50%              2024-05-11 00:00:00   34.500000\n",
       "75%              2024-06-01 00:00:00   37.720000\n",
       "max              2024-06-30 00:00:00   40.000000\n",
       "std                              NaN    4.573951"
      ]
     },
     "execution_count": 16,
     "metadata": {},
     "output_type": "execute_result"
    }
   ],
   "source": [
    "df.describe()"
   ]
  },
  {
   "cell_type": "markdown",
   "id": "8ca68b1c-9fc1-42c3-88c8-e50c234f91b5",
   "metadata": {},
   "source": [
    "### Buscando Cafés Mais Vendidos"
   ]
  },
  {
   "cell_type": "code",
   "execution_count": 17,
   "id": "0177d95e-de01-4904-9d5f-243649b51071",
   "metadata": {},
   "outputs": [
    {
     "data": {
      "text/plain": [
       "coffee_name\n",
       "Americano with Milk    203\n",
       "Latte                  187\n",
       "Cappuccino             164\n",
       "Americano              133\n",
       "Cortado                 85\n",
       "Hot Chocolate           63\n",
       "Espresso                35\n",
       "Cocoa                   26\n",
       "Name: coffee_name, dtype: int64"
      ]
     },
     "execution_count": 17,
     "metadata": {},
     "output_type": "execute_result"
    }
   ],
   "source": [
    "df.groupby(['coffee_name'])['coffee_name'].count().sort_values(ascending=False)"
   ]
  },
  {
   "cell_type": "code",
   "execution_count": 18,
   "id": "5af05554-d0d5-4565-8205-b48393c09fb5",
   "metadata": {},
   "outputs": [
    {
     "data": {
      "image/png": "[encoded data removed]",
      "text/plain": [
       "<Figure size 640x480 with 1 Axes>"
      ]
     },
     "metadata": {},
     "output_type": "display_data"
    }
   ],
   "source": [
    "# Visualizando dados\n",
    "plt.bar(df.groupby(['coffee_name'])['coffee_name'].count().index, df.groupby(['coffee_name'])['coffee_name'].value_counts())\n",
    "plt.xticks(rotation=90)\n",
    "plt.ylabel('Vendas')\n",
    "plt.xlabel('Cafés')\n",
    "plt.show()"
   ]
  },
  {
   "cell_type": "markdown",
   "id": "eea6dcb9-bf26-4bc7-abf1-e5769d141645",
   "metadata": {},
   "source": [
    "### Buscando Lucros Mensais"
   ]
  },
  {
   "cell_type": "code",
   "execution_count": 19,
   "id": "8270f2ab-bf7f-4281-8116-21f583793fc1",
   "metadata": {},
   "outputs": [
    {
     "data": {
      "text/plain": [
       "date\n",
       "3    7050.20\n",
       "4    6720.56\n",
       "5    9063.42\n",
       "6    7758.76\n",
       "Name: money, dtype: float64"
      ]
     },
     "execution_count": 19,
     "metadata": {},
     "output_type": "execute_result"
    }
   ],
   "source": [
    "df.groupby(df['date'].dt.month)['money'].sum()"
   ]
  },
  {
   "cell_type": "code",
   "execution_count": 20,
   "id": "98c20597-7520-4ef0-b3af-480d8b4707ca",
   "metadata": {},
   "outputs": [
    {
     "data": {
      "image/png": "[encoded data removed]",
      "text/plain": [
       "<Figure size 640x480 with 1 Axes>"
      ]
     },
     "metadata": {},
     "output_type": "display_data"
    }
   ],
   "source": [
    "# Visualizando dados\n",
    "plt.bar(df.groupby(df['date'].dt.month).count().index, df.groupby(df['date'].dt.month)['money'].sum())\n",
    "plt.xticks(df['date'].dt.month)\n",
    "plt.ylabel('Lucro')\n",
    "plt.xlabel('Meses')\n",
    "plt.show()"
   ]
  }
 ],
 "metadata": {
  "kernelspec": {
   "display_name": "Python 3 (ipykernel)",
   "language": "python",
   "name": "python3"
  },
  "language_info": {
   "codemirror_mode": {
    "name": "ipython",
    "version": 3
   },
   "file_extension": ".py",
   "mimetype": "text/x-python",
   "name": "python",
   "nbconvert_exporter": "python",
   "pygments_lexer": "ipython3",
   "version": "3.12.4"
  }
 },
 "nbformat": 4,
 "nbformat_minor": 5
}
